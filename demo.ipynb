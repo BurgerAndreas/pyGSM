{
 "cells": [
  {
   "cell_type": "code",
   "execution_count": 1,
   "metadata": {},
   "outputs": [],
   "source": [
    "from molecule import Molecule\n",
    "from molpro import Molpro\n",
    "from pes import PES\n",
    "from avg_pes import Avg_PES\n",
    "import numpy as np\n",
    "# lee woodcock\n",
    "#  replica exchange rxn path simulation?"
   ]
  },
  {
   "cell_type": "code",
   "execution_count": 2,
   "metadata": {},
   "outputs": [
    {
     "name": "stdout",
     "output_type": "stream",
     "text": [
      " initializing LOT from file\n",
      " reading cartesian coordinates from file\n",
      " building coordinate object\n",
      " making primitives from options!\n",
      " making primitive Hessian\n",
      "printing diagonals\n",
      "[0.35, 0.35, 0.35, 0.35, 0.35, 0.16, 0.16, 0.16, 0.16, 0.045, 0.045, 0.023, 0.023, 0.023, 0.023]\n",
      "forming Hessian in basis\n"
     ]
    }
   ],
   "source": [
    "filepath='examples/tests/fluoroethene.xyz'\n",
    "nocc=11\n",
    "nactive=2\n",
    "lot=Molpro.from_options(states=[(1,0),(1,1)],charge=0,nocc=nocc,nactive=nactive,basis='6-31G',do_coupling=False,nproc=4,fnm=filepath)\n",
    "pes1 = PES.from_options(lot=lot,ad_idx=0,multiplicity=1)\n",
    "pes2 = PES.from_options(lot=lot,ad_idx=1,multiplicity=1)\n",
    "pes = Avg_PES(pes1,pes2,lot=lot)\n",
    "M = Molecule.from_options(fnm=filepath,PES=pes,coordinate_type=\"DLC\")\n"
   ]
  },
  {
   "cell_type": "code",
   "execution_count": 7,
   "metadata": {},
   "outputs": [
    {
     "name": "stdout",
     "output_type": "stream",
     "text": [
      " molecule object\n",
      "Option:\n",
      "  Key: fnm\n",
      "  Value: examples/tests/fluoroethene.xyz\n",
      "  Required: False\n",
      "  Allowed Types: [<class 'str'>]\n",
      "  Allowed Values: None\n",
      "  Doc: File name to create the Molecule object from. Only used if geom is none.\n",
      "\n",
      "Option:\n",
      "  Key: ftype\n",
      "  Value: xyz\n",
      "  Required: False\n",
      "  Allowed Types: [<class 'str'>]\n",
      "  Allowed Values: None\n",
      "  Doc: filetype (optional) will attempt to read filetype if not given\n",
      "\n",
      "Option:\n",
      "  Key: coordinate_type\n",
      "  Value: DLC\n",
      "  Required: False\n",
      "  Allowed Types: None\n",
      "  Allowed Values: ['Cartesian', 'DLC', 'HDLC', 'TRIC']\n",
      "  Doc: The type of coordinate system to build\n",
      "\n",
      "Option:\n",
      "  Key: coord_obj\n",
      "  Value: Internal coordinate system (atoms numbered from 1):\n",
      "Distance 1-2\n",
      "Distance 1-3\n",
      "Distance 1-4\n",
      "Distance 2-5\n",
      "Distance 2-6\n",
      "Angle 2-1-4\n",
      "Angle 3-1-4\n",
      "Angle 1-2-6\n",
      "Angle 5-2-6\n",
      "Out-of-Plane 1-2-3-4\n",
      "Out-of-Plane 2-1-5-6\n",
      "Dihedral 3-1-2-5\n",
      "Dihedral 3-1-2-6\n",
      "Dihedral 4-1-2-5\n",
      "Dihedral 4-1-2-6\n",
      "<class 'slots.Distance'> : 5\n",
      "<class 'slots.Angle'> : 4\n",
      "<class 'slots.OutOfPlane'> : 2\n",
      "<class 'slots.Dihedral'> : 4\n",
      "  Required: False\n",
      "  Allowed Types: [<class 'dlc_new.DelocalizedInternalCoordinates'>, <class 'cartesian.CartesianCoordinates'>]\n",
      "  Allowed Values: None\n",
      "  Doc: A coordinate object.\n",
      "\n",
      "Option:\n",
      "  Key: geom\n",
      "  Value: None\n",
      "  Required: False\n",
      "  Allowed Types: [<class 'list'>]\n",
      "  Allowed Values: None\n",
      "  Doc: geometry including atomic symbols\n",
      "\n",
      "Option:\n",
      "  Key: xyz\n",
      "  Value: [[-4.5106  2.1651 -0.0364]\n",
      " [-3.1799  2.1668 -0.0227]\n",
      " [-5.2034  2.9443  0.835 ]\n",
      " [-5.0514  1.5425 -0.7423]\n",
      " [-2.6402  2.7897  0.6834]\n",
      " [-2.622   1.5459 -0.717 ]]\n",
      "  Required: False\n",
      "  Allowed Types: [<class 'numpy.ndarray'>]\n",
      "  Allowed Values: None\n",
      "  Doc: The Cartesian coordinates in Angstrom\n",
      "\n",
      "Option:\n",
      "  Key: PES\n",
      "  Value: <avg_pes.Avg_PES object at 0x000002C782E457B8>\n",
      "  Required: True\n",
      "  Allowed Types: [<class 'pes.PES'>, <class 'avg_pes.Avg_PES'>, <class 'penalty_pes.Penalty_PES'>]\n",
      "  Allowed Values: None\n",
      "  Doc: potential energy surface object to evaulate energies, gradients, etc. Pes is defined by charge, state, multiplicity,etc. \n",
      "\n",
      "Option:\n",
      "  Key: Primitive_Hessian\n",
      "  Value: [[0.35  0.    0.    0.    0.    0.    0.    0.    0.    0.    0.    0.\n",
      "  0.    0.    0.   ]\n",
      " [0.    0.35  0.    0.    0.    0.    0.    0.    0.    0.    0.    0.\n",
      "  0.    0.    0.   ]\n",
      " [0.    0.    0.35  0.    0.    0.    0.    0.    0.    0.    0.    0.\n",
      "  0.    0.    0.   ]\n",
      " [0.    0.    0.    0.35  0.    0.    0.    0.    0.    0.    0.    0.\n",
      "  0.    0.    0.   ]\n",
      " [0.    0.    0.    0.    0.35  0.    0.    0.    0.    0.    0.    0.\n",
      "  0.    0.    0.   ]\n",
      " [0.    0.    0.    0.    0.    0.16  0.    0.    0.    0.    0.    0.\n",
      "  0.    0.    0.   ]\n",
      " [0.    0.    0.    0.    0.    0.    0.16  0.    0.    0.    0.    0.\n",
      "  0.    0.    0.   ]\n",
      " [0.    0.    0.    0.    0.    0.    0.    0.16  0.    0.    0.    0.\n",
      "  0.    0.    0.   ]\n",
      " [0.    0.    0.    0.    0.    0.    0.    0.    0.16  0.    0.    0.\n",
      "  0.    0.    0.   ]\n",
      " [0.    0.    0.    0.    0.    0.    0.    0.    0.    0.045 0.    0.\n",
      "  0.    0.    0.   ]\n",
      " [0.    0.    0.    0.    0.    0.    0.    0.    0.    0.    0.045 0.\n",
      "  0.    0.    0.   ]\n",
      " [0.    0.    0.    0.    0.    0.    0.    0.    0.    0.    0.    0.023\n",
      "  0.    0.    0.   ]\n",
      " [0.    0.    0.    0.    0.    0.    0.    0.    0.    0.    0.    0.\n",
      "  0.023 0.    0.   ]\n",
      " [0.    0.    0.    0.    0.    0.    0.    0.    0.    0.    0.    0.\n",
      "  0.    0.023 0.   ]\n",
      " [0.    0.    0.    0.    0.    0.    0.    0.    0.    0.    0.    0.\n",
      "  0.    0.    0.023]]\n",
      "  Required: False\n",
      "  Allowed Types: None\n",
      "  Allowed Values: None\n",
      "  Doc: Primitive hessian save file for doing optimization.\n",
      "\n",
      "Option:\n",
      "  Key: Hessian\n",
      "  Value: [[ 0.1818  0.0428 -0.0047  0.0003  0.0002  0.0373 -0.0065 -0.      0.0186\n",
      "  -0.006   0.      0.    ]\n",
      " [ 0.0428  0.3181  0.0061 -0.0033 -0.0283 -0.0125 -0.0054 -0.      0.0462\n",
      "  -0.0063 -0.      0.    ]\n",
      " [-0.0047  0.0061  0.2614  0.0053  0.002  -0.0004  0.0835  0.      0.0121\n",
      "   0.042   0.     -0.    ]\n",
      " [ 0.0003 -0.0033  0.0053  0.3332 -0.0032  0.0014 -0.0286 -0.      0.01\n",
      "   0.044  -0.     -0.    ]\n",
      " [ 0.0002 -0.0283  0.002  -0.0032  0.3118 -0.0043 -0.0039 -0.      0.0695\n",
      "  -0.0107 -0.     -0.    ]\n",
      " [ 0.0373 -0.0125 -0.0004  0.0014 -0.0043  0.3411  0.0051 -0.      0.0034\n",
      "  -0.0042 -0.     -0.    ]\n",
      " [-0.0065 -0.0054  0.0835 -0.0286 -0.0039  0.0051  0.2364  0.      0.0008\n",
      "   0.0278  0.      0.    ]\n",
      " [-0.     -0.      0.     -0.     -0.     -0.      0.      0.0232 -0.\n",
      "  -0.      0.0009  0.0002]\n",
      " [ 0.0186  0.0462  0.0121  0.01    0.0695  0.0034  0.0008 -0.      0.217\n",
      "  -0.0018 -0.     -0.    ]\n",
      " [-0.006  -0.0063  0.042   0.044  -0.0107 -0.0042  0.0278 -0.     -0.0018\n",
      "   0.1891  0.      0.    ]\n",
      " [ 0.     -0.      0.     -0.     -0.     -0.      0.      0.0009 -0.\n",
      "   0.      0.0278 -0.0002]\n",
      " [ 0.      0.     -0.     -0.     -0.     -0.      0.      0.0002 -0.\n",
      "   0.     -0.0002  0.0281]]\n",
      "  Required: False\n",
      "  Allowed Types: None\n",
      "  Allowed Values: None\n",
      "  Doc: Hessian save file in the basis of coordinate_type.\n",
      "\n",
      "Option:\n",
      "  Key: comment\n",
      "  Value: \n",
      "  Required: False\n",
      "  Allowed Types: None\n",
      "  Allowed Values: None\n",
      "  Doc: A string that is saved on the molecule, used for descriptive purposes\n",
      "\n",
      "\n"
     ]
    }
   ],
   "source": [
    "print(M)"
   ]
  },
  {
   "cell_type": "code",
   "execution_count": 18,
   "metadata": {},
   "outputs": [
    {
     "name": "stdout",
     "output_type": "stream",
     "text": [
      "printing gradient\n",
      "turning gradient off for demonstration purpose\n",
      "#gradx = self.PES.get_gradient(self.xyz) \n",
      "#return self.coord_obj.calcGrad(self.xyz,gradx)  #CartesianCoordinate just returns gradx\n",
      "0.0\n"
     ]
    }
   ],
   "source": [
    "print(\"printing gradient\")\n",
    "print(M.gradient)"
   ]
  },
  {
   "cell_type": "code",
   "execution_count": 4,
   "metadata": {},
   "outputs": [
    {
     "name": "stdout",
     "output_type": "stream",
     "text": [
      "turning energy off for demonstration purpose\n",
      "self.PES.get_energy(self.xyz)\n"
     ]
    },
    {
     "data": {
      "text/plain": [
       "0.0"
      ]
     },
     "execution_count": 4,
     "metadata": {},
     "output_type": "execute_result"
    }
   ],
   "source": [
    "M.energy"
   ]
  },
  {
   "cell_type": "code",
   "execution_count": 9,
   "metadata": {},
   "outputs": [
    {
     "name": "stdout",
     "output_type": "stream",
     "text": [
      "primitive internal coordinates\n",
      "[Distance 1-2, Distance 1-3, Distance 1-4, Distance 2-5, Distance 2-6, Angle 2-1-4, Angle 3-1-4, Angle 1-2-6, Angle 5-2-6, Out-of-Plane 1-2-3-4, Out-of-Plane 2-1-5-6, Dihedral 3-1-2-5, Dihedral 3-1-2-6, Dihedral 4-1-2-5, Dihedral 4-1-2-6]\n"
     ]
    }
   ],
   "source": [
    "print(\"primitive internal coordinates\")\n",
    "print(M.primitive_internal_coordinates)"
   ]
  },
  {
   "cell_type": "code",
   "execution_count": 10,
   "metadata": {},
   "outputs": [
    {
     "name": "stdout",
     "output_type": "stream",
     "text": [
      "primitive number of internal coordinates\n",
      "15\n"
     ]
    }
   ],
   "source": [
    "print(\"primitive number of internal coordinates\")\n",
    "print(M.num_primitives)"
   ]
  },
  {
   "cell_type": "code",
   "execution_count": 13,
   "metadata": {},
   "outputs": [
    {
     "name": "stdout",
     "output_type": "stream",
     "text": [
      "getting the value of a primitive 0\n",
      "1.3308189789788099\n"
     ]
    }
   ],
   "source": [
    "print(\"getting the value of a primitive 0\")\n",
    "print(M.primitive_internal_coordinates[0].value(M.xyz))"
   ]
  },
  {
   "cell_type": "code",
   "execution_count": 16,
   "metadata": {},
   "outputs": [
    {
     "name": "stdout",
     "output_type": "stream",
     "text": [
      "printing delocalized coordinates basis\n",
      "[[ 0.2806  0.7797  0.0219  0.0115  0.2771  0.1212 -0.0572 -0.      0.4618\n",
      "  -0.0689 -0.     -0.    ]\n",
      " [ 0.1298  0.169  -0.2278 -0.6333 -0.458   0.4353 -0.0464 -0.     -0.2171\n",
      "  -0.2307  0.      0.    ]\n",
      " [-0.0926  0.2978  0.4327 -0.3329 -0.2935 -0.5792  0.4061  0.     -0.0625\n",
      "   0.1192  0.      0.    ]\n",
      " [ 0.1007  0.1706  0.3     0.553  -0.5149  0.4271  0.1702 -0.     -0.1185\n",
      "   0.2728  0.      0.    ]\n",
      " [-0.0186  0.2794 -0.452   0.3067 -0.4016 -0.4805 -0.4503 -0.     -0.1473\n",
      "  -0.0813 -0.      0.    ]\n",
      " [-0.5606  0.2831  0.3034  0.1328  0.2021  0.1383 -0.1191 -0.     -0.4033\n",
      "  -0.509  -0.     -0.    ]\n",
      " [-0.4764 -0.0735  0.2677 -0.1944 -0.2408  0.1007 -0.528  -0.      0.4964\n",
      "   0.2546 -0.     -0.    ]\n",
      " [-0.4709  0.2752 -0.4505 -0.0787  0.194   0.1311  0.2309  0.     -0.1891\n",
      "   0.5912  0.     -0.    ]\n",
      " [-0.3498 -0.0805 -0.3154  0.163  -0.2539  0.0253  0.5015  0.      0.505\n",
      "  -0.4164 -0.     -0.    ]\n",
      " [ 0.     -0.      0.     -0.     -0.     -0.     -0.      0.0838  0.\n",
      "   0.      0.3521  0.3008]\n",
      " [ 0.     -0.     -0.      0.     -0.     -0.      0.     -0.0382 -0.\n",
      "  -0.     -0.3103  0.3739]\n",
      " [ 0.     -0.     -0.     -0.     -0.     -0.      0.     -0.5348 -0.\n",
      "  -0.      0.0412 -0.5895]\n",
      " [ 0.     -0.     -0.     -0.     -0.     -0.      0.     -0.6032 -0.\n",
      "  -0.     -0.5148  0.0803]\n",
      " [-0.     -0.      0.      0.      0.     -0.      0.     -0.3777  0.\n",
      "  -0.      0.7014 -0.0256]\n",
      " [-0.      0.      0.      0.      0.     -0.      0.     -0.4461  0.\n",
      "  -0.      0.1454  0.6443]]\n"
     ]
    }
   ],
   "source": [
    "print(\"printing delocalized coordinates basis\")\n",
    "print(M.coord_basis)"
   ]
  },
  {
   "cell_type": "code",
   "execution_count": 17,
   "metadata": {},
   "outputs": [
    {
     "name": "stdout",
     "output_type": "stream",
     "text": [
      "printing coordinates in basis\n",
      "[[-3.3507  2.9312 -0.3838 -0.2259 -1.7651  0.8945  0.1756 -0.7082  0.8046\n",
      "  -0.2303 -3.8206  0.3328]]\n"
     ]
    }
   ],
   "source": [
    "print(\"printing coordinates in basis\")\n",
    "print(M.coordinates.T)"
   ]
  },
  {
   "cell_type": "code",
   "execution_count": 19,
   "metadata": {},
   "outputs": [
    {
     "name": "stdout",
     "output_type": "stream",
     "text": [
      "taking step and printing new xyz,geom and coordinates\n",
      "Iter: 1 Err-dQ = 7.95491e-03 RMSD: 4.33434e-02 Damp: 1.00000e+00\n",
      "Iter: 2 Err-dQ (Best) = 7.11647e-06 (7.95491e-03) RMSD: 1.74577e-03 Damp: 1.00000e+00 (Good)\n",
      "Iter: 3 Err-dQ (Best) = 1.99785e-11 (7.11647e-06) RMSD: 1.90451e-06 Damp: 1.00000e+00 (Good)\n",
      "Cartesian coordinates obtained after 3 microiterations (rmsd = 1.905e-06 |dQ| = 1.998e-11)\n",
      "[[-3.2507  2.9312 -0.3838 -0.2259 -1.7651  0.8945  0.1756 -0.7082  0.8046\n",
      "  -0.2303 -3.8206  0.3328]]\n",
      "[[-4.5196  2.1864 -0.0125]\n",
      " [-3.1607  2.1785 -0.0094]\n",
      " [-5.3255  2.927   0.8144]\n",
      " [-5.0128  1.5534 -0.7297]\n",
      " [-2.5303  2.7705  0.6628]\n",
      " [-2.6585  1.5386 -0.7256]]\n",
      "[('C', -4.519592215522, 2.186404141203442, -0.012487458677285491), ('C', -3.160741509350698, 2.178468608567302, -0.009423871902693445), ('F', -5.325509747676559, 2.926982944734106, 0.814363599179425), ('H', -5.0128146188298786, 1.5533528811519122, -0.7297239456612628), ('H', -2.530329626444841, 2.7705154864525054, 0.6628489584930248), ('H', -2.6584771988760245, 1.5385725735907336, -0.7255772814312083)]\n"
     ]
    }
   ],
   "source": [
    "dq = np.zeros((M.num_coordinates,1))\n",
    "dq[0]=0.1\n",
    "print(\"taking step and printing new xyz,geom and coordinates\")\n",
    "M.update_xyz(dq)\n",
    "print(M.coordinates.T)\n",
    "print(M.xyz)\n",
    "print(M.geometry)"
   ]
  },
  {
   "cell_type": "code",
   "execution_count": 21,
   "metadata": {},
   "outputs": [
    {
     "name": "stdout",
     "output_type": "stream",
     "text": [
      "update coordinate basis\n",
      "[[ 0.26    0.7873 -0.0223  0.0038  0.2846  0.086  -0.055  -0.      0.4624\n",
      "  -0.083  -0.     -0.    ]\n",
      " [ 0.134   0.2025  0.2056 -0.6252 -0.4711  0.4216 -0.0214 -0.     -0.2368\n",
      "  -0.2274 -0.      0.    ]\n",
      " [-0.1093  0.2734 -0.4509 -0.2922 -0.3045 -0.593   0.4017  0.     -0.0552\n",
      "   0.1257  0.      0.    ]\n",
      " [ 0.109   0.1942 -0.2827  0.5808 -0.4847  0.4229  0.1535 -0.     -0.1214\n",
      "   0.2848  0.      0.    ]\n",
      " [-0.0339  0.2628  0.466   0.3002 -0.3922 -0.4846 -0.4538 -0.     -0.1457\n",
      "  -0.0815 -0.      0.    ]\n",
      " [-0.5617  0.2703 -0.3049  0.1373  0.2143  0.1315 -0.1259 -0.     -0.4203\n",
      "  -0.4938 -0.     -0.    ]\n",
      " [-0.474  -0.0765 -0.2634 -0.1928 -0.2553  0.127  -0.5248 -0.      0.4995\n",
      "   0.2381 -0.     -0.    ]\n",
      " [-0.4761  0.268   0.4459 -0.0951  0.1987  0.1195  0.2363  0.     -0.1762\n",
      "   0.5942  0.      0.    ]\n",
      " [-0.3502 -0.0828  0.3092  0.1768 -0.2549  0.0434  0.5084  0.      0.4837\n",
      "  -0.4293 -0.     -0.    ]\n",
      " [ 0.     -0.     -0.     -0.     -0.     -0.     -0.      0.029   0.\n",
      "  -0.      0.3761  0.3157]\n",
      " [ 0.     -0.      0.     -0.     -0.     -0.      0.     -0.0803 -0.\n",
      "   0.     -0.3167  0.3847]\n",
      " [ 0.     -0.      0.     -0.     -0.     -0.      0.     -0.4497 -0.\n",
      "  -0.      0.0116 -0.6507]\n",
      " [ 0.     -0.      0.     -0.     -0.     -0.      0.     -0.5871 -0.\n",
      "   0.     -0.5301  0.0073]\n",
      " [-0.     -0.     -0.      0.      0.     -0.      0.     -0.3983  0.\n",
      "  -0.      0.6773 -0.092 ]\n",
      " [-0.      0.     -0.      0.      0.     -0.      0.     -0.5357  0.\n",
      "  -0.      0.1356  0.5661]]\n"
     ]
    }
   ],
   "source": [
    "# update coordinate basis\n",
    "print(\"update coordinate basis\")\n",
    "print(M.update_coordinate_basis())  #also used with constraints\n"
   ]
  },
  {
   "cell_type": "code",
   "execution_count": 22,
   "metadata": {},
   "outputs": [
    {
     "name": "stdout",
     "output_type": "stream",
     "text": [
      "coords in new basis\n",
      "[[-3.3073  2.9176  0.3508 -0.1511 -1.7389  0.857   0.2036 -0.5931  0.7394\n",
      "  -0.2478 -3.7931  0.3119]]\n"
     ]
    }
   ],
   "source": [
    "print(\"coords in new basis\")\n",
    "print(M.coordinates.T)\n"
   ]
  },
  {
   "cell_type": "code",
   "execution_count": 23,
   "metadata": {},
   "outputs": [
    {
     "name": "stdout",
     "output_type": "stream",
     "text": [
      "update Hessian in  basis\n",
      "[[ 0.181   0.0407  0.0046  0.0004  0.0009  0.0392 -0.0055 -0.      0.0164\n",
      "  -0.0061  0.      0.    ]\n",
      " [ 0.0407  0.3201 -0.006  -0.0022 -0.0288 -0.0103 -0.0052 -0.      0.0454\n",
      "  -0.0082 -0.      0.    ]\n",
      " [ 0.0046 -0.006   0.2632 -0.004  -0.0022  0.0013 -0.0834 -0.     -0.0129\n",
      "  -0.0418 -0.     -0.    ]\n",
      " [ 0.0004 -0.0022 -0.004   0.3317 -0.0028  0.0019 -0.0287 -0.      0.0098\n",
      "   0.0468 -0.     -0.    ]\n",
      " [ 0.0009 -0.0288 -0.0022 -0.0028  0.309  -0.0016 -0.0046 -0.      0.0714\n",
      "  -0.0116 -0.     -0.    ]\n",
      " [ 0.0392 -0.0103  0.0013  0.0019 -0.0016  0.3406  0.0062 -0.     -0.0015\n",
      "  -0.0034 -0.     -0.    ]\n",
      " [-0.0055 -0.0052 -0.0834 -0.0287 -0.0046  0.0062  0.2349  0.      0.0009\n",
      "   0.0267  0.      0.    ]\n",
      " [-0.     -0.     -0.     -0.     -0.     -0.      0.      0.0232 -0.\n",
      "  -0.      0.0008 -0.0005]\n",
      " [ 0.0164  0.0454 -0.0129  0.0098  0.0714 -0.0015  0.0009 -0.      0.2187\n",
      "  -0.0027 -0.     -0.    ]\n",
      " [-0.0061 -0.0082 -0.0418  0.0468 -0.0116 -0.0034  0.0267 -0.     -0.0027\n",
      "   0.1908  0.      0.    ]\n",
      " [ 0.     -0.     -0.     -0.     -0.     -0.      0.      0.0008 -0.\n",
      "   0.      0.0283 -0.0001]\n",
      " [ 0.      0.     -0.     -0.     -0.     -0.      0.     -0.0005 -0.\n",
      "   0.     -0.0001  0.0284]]\n"
     ]
    }
   ],
   "source": [
    "print(\"update Hessian in  basis\")\n",
    "print(M.form_Hessian_in_basis())\n"
   ]
  },
  {
   "cell_type": "code",
   "execution_count": 9,
   "metadata": {},
   "outputs": [
    {
     "name": "stdout",
     "output_type": "stream",
     "text": [
      "copy molecule\n",
      " creating copy, new node id = 1\n",
      " old node id =  0\n",
      "  cp scratch/mp_0000_000 scratch/mp_0000_001\n",
      " initializing LOT from file\n",
      " making primitives from options!\n",
      " getting cartesian coordinates from geom\n",
      " getting coord_object from options\n",
      "\n",
      "\n",
      "###############################\n",
      "Note that the copy from options is recommended since it properly creates new coord_obj and PES object\n"
     ]
    }
   ],
   "source": [
    "\n",
    "# copying molecule automatically copies all Data\n",
    "print(\"copy molecule\")\n",
    "newMolecule = Molecule.copy_from_options(M)\n",
    "print(\"\\n\")\n",
    "print(\"###############################\")\n",
    "print(\"Note that the copy from options is recommended since it properly creates new coord_obj and PES object\")"
   ]
  },
  {
   "cell_type": "code",
   "execution_count": 10,
   "metadata": {},
   "outputs": [
    {
     "name": "stdout",
     "output_type": "stream",
     "text": [
      " molecule object\n",
      "Option:\n",
      "  Key: fnm\n",
      "  Value: examples/tests/fluoroethene.xyz\n",
      "  Required: False\n",
      "  Allowed Types: [<class 'str'>]\n",
      "  Allowed Values: None\n",
      "  Doc: File name to create the Molecule object from. Only used if geom is none.\n",
      "\n",
      "Option:\n",
      "  Key: ftype\n",
      "  Value: xyz\n",
      "  Required: False\n",
      "  Allowed Types: [<class 'str'>]\n",
      "  Allowed Values: None\n",
      "  Doc: filetype (optional) will attempt to read filetype if not given\n",
      "\n",
      "Option:\n",
      "  Key: coordinate_type\n",
      "  Value: DLC\n",
      "  Required: False\n",
      "  Allowed Types: None\n",
      "  Allowed Values: ['Cartesian', 'DLC', 'HDLC', 'TRIC']\n",
      "  Doc: The type of coordinate system to build\n",
      "\n",
      "Option:\n",
      "  Key: coord_obj\n",
      "  Value: Internal coordinate system (atoms numbered from 1):\n",
      "Distance 1-2\n",
      "Distance 1-3\n",
      "Distance 1-4\n",
      "Distance 2-5\n",
      "Distance 2-6\n",
      "Angle 2-1-4\n",
      "Angle 3-1-4\n",
      "Angle 1-2-6\n",
      "Angle 5-2-6\n",
      "Out-of-Plane 1-2-3-4\n",
      "Out-of-Plane 2-1-5-6\n",
      "Dihedral 3-1-2-5\n",
      "Dihedral 3-1-2-6\n",
      "Dihedral 4-1-2-5\n",
      "Dihedral 4-1-2-6\n",
      "<class 'slots.Distance'> : 5\n",
      "<class 'slots.Angle'> : 4\n",
      "<class 'slots.OutOfPlane'> : 2\n",
      "<class 'slots.Dihedral'> : 4\n",
      "  Required: False\n",
      "  Allowed Types: [<class 'dlc_new.DelocalizedInternalCoordinates'>, <class 'cartesian.CartesianCoordinates'>]\n",
      "  Allowed Values: None\n",
      "  Doc: A coordinate object.\n",
      "\n",
      "Option:\n",
      "  Key: geom\n",
      "  Value: [('C', -4.5106396456, 2.1651266319, -0.0363690665), ('C', -3.1798916354, 2.1668043075, -0.0227281881), ('F', -5.2033616144, 2.9443093454, 0.8349535831), ('H', -5.05135079, 1.5424610567, -0.742329569), ('H', -2.640171635, 2.7896675342, 0.6834461377), ('H', -2.6220495963, 1.54592776, -0.7169728972)]\n",
      "  Required: False\n",
      "  Allowed Types: [<class 'list'>]\n",
      "  Allowed Values: None\n",
      "  Doc: geometry including atomic symbols\n",
      "\n",
      "Option:\n",
      "  Key: xyz\n",
      "  Value: [[-4.5106  2.1651 -0.0364]\n",
      " [-3.1799  2.1668 -0.0227]\n",
      " [-5.2034  2.9443  0.835 ]\n",
      " [-5.0514  1.5425 -0.7423]\n",
      " [-2.6402  2.7897  0.6834]\n",
      " [-2.622   1.5459 -0.717 ]]\n",
      "  Required: False\n",
      "  Allowed Types: [<class 'numpy.ndarray'>]\n",
      "  Allowed Values: None\n",
      "  Doc: The Cartesian coordinates in Angstrom\n",
      "\n",
      "Option:\n",
      "  Key: PES\n",
      "  Value: <avg_pes.Avg_PES object at 0x000002C782C358D0>\n",
      "  Required: True\n",
      "  Allowed Types: [<class 'pes.PES'>, <class 'avg_pes.Avg_PES'>, <class 'penalty_pes.Penalty_PES'>]\n",
      "  Allowed Values: None\n",
      "  Doc: potential energy surface object to evaulate energies, gradients, etc. Pes is defined by charge, state, multiplicity,etc. \n",
      "\n",
      "Option:\n",
      "  Key: Primitive_Hessian\n",
      "  Value: [[0.35  0.    0.    0.    0.    0.    0.    0.    0.    0.    0.    0.\n",
      "  0.    0.    0.   ]\n",
      " [0.    0.35  0.    0.    0.    0.    0.    0.    0.    0.    0.    0.\n",
      "  0.    0.    0.   ]\n",
      " [0.    0.    0.35  0.    0.    0.    0.    0.    0.    0.    0.    0.\n",
      "  0.    0.    0.   ]\n",
      " [0.    0.    0.    0.35  0.    0.    0.    0.    0.    0.    0.    0.\n",
      "  0.    0.    0.   ]\n",
      " [0.    0.    0.    0.    0.35  0.    0.    0.    0.    0.    0.    0.\n",
      "  0.    0.    0.   ]\n",
      " [0.    0.    0.    0.    0.    0.16  0.    0.    0.    0.    0.    0.\n",
      "  0.    0.    0.   ]\n",
      " [0.    0.    0.    0.    0.    0.    0.16  0.    0.    0.    0.    0.\n",
      "  0.    0.    0.   ]\n",
      " [0.    0.    0.    0.    0.    0.    0.    0.16  0.    0.    0.    0.\n",
      "  0.    0.    0.   ]\n",
      " [0.    0.    0.    0.    0.    0.    0.    0.    0.16  0.    0.    0.\n",
      "  0.    0.    0.   ]\n",
      " [0.    0.    0.    0.    0.    0.    0.    0.    0.    0.045 0.    0.\n",
      "  0.    0.    0.   ]\n",
      " [0.    0.    0.    0.    0.    0.    0.    0.    0.    0.    0.045 0.\n",
      "  0.    0.    0.   ]\n",
      " [0.    0.    0.    0.    0.    0.    0.    0.    0.    0.    0.    0.023\n",
      "  0.    0.    0.   ]\n",
      " [0.    0.    0.    0.    0.    0.    0.    0.    0.    0.    0.    0.\n",
      "  0.023 0.    0.   ]\n",
      " [0.    0.    0.    0.    0.    0.    0.    0.    0.    0.    0.    0.\n",
      "  0.    0.023 0.   ]\n",
      " [0.    0.    0.    0.    0.    0.    0.    0.    0.    0.    0.    0.\n",
      "  0.    0.    0.023]]\n",
      "  Required: False\n",
      "  Allowed Types: None\n",
      "  Allowed Values: None\n",
      "  Doc: Primitive hessian save file for doing optimization.\n",
      "\n",
      "Option:\n",
      "  Key: Hessian\n",
      "  Value: [[ 0.1818  0.0428 -0.0047  0.0003  0.0002  0.0373 -0.0065 -0.      0.0186\n",
      "  -0.006   0.      0.    ]\n",
      " [ 0.0428  0.3181  0.0061 -0.0033 -0.0283 -0.0125 -0.0054 -0.      0.0462\n",
      "  -0.0063 -0.      0.    ]\n",
      " [-0.0047  0.0061  0.2614  0.0053  0.002  -0.0004  0.0835  0.      0.0121\n",
      "   0.042   0.     -0.    ]\n",
      " [ 0.0003 -0.0033  0.0053  0.3332 -0.0032  0.0014 -0.0286 -0.      0.01\n",
      "   0.044  -0.     -0.    ]\n",
      " [ 0.0002 -0.0283  0.002  -0.0032  0.3118 -0.0043 -0.0039 -0.      0.0695\n",
      "  -0.0107 -0.     -0.    ]\n",
      " [ 0.0373 -0.0125 -0.0004  0.0014 -0.0043  0.3411  0.0051 -0.      0.0034\n",
      "  -0.0042 -0.     -0.    ]\n",
      " [-0.0065 -0.0054  0.0835 -0.0286 -0.0039  0.0051  0.2364  0.      0.0008\n",
      "   0.0278  0.      0.    ]\n",
      " [-0.     -0.      0.     -0.     -0.     -0.      0.      0.0232 -0.\n",
      "  -0.      0.0009  0.0002]\n",
      " [ 0.0186  0.0462  0.0121  0.01    0.0695  0.0034  0.0008 -0.      0.217\n",
      "  -0.0018 -0.     -0.    ]\n",
      " [-0.006  -0.0063  0.042   0.044  -0.0107 -0.0042  0.0278 -0.     -0.0018\n",
      "   0.1891  0.      0.    ]\n",
      " [ 0.     -0.      0.     -0.     -0.     -0.      0.      0.0009 -0.\n",
      "   0.      0.0278 -0.0002]\n",
      " [ 0.      0.     -0.     -0.     -0.     -0.      0.      0.0002 -0.\n",
      "   0.     -0.0002  0.0281]]\n",
      "  Required: False\n",
      "  Allowed Types: None\n",
      "  Allowed Values: None\n",
      "  Doc: Hessian save file in the basis of coordinate_type.\n",
      "\n",
      "Option:\n",
      "  Key: comment\n",
      "  Value: \n",
      "  Required: False\n",
      "  Allowed Types: None\n",
      "  Allowed Values: None\n",
      "  Doc: A string that is saved on the molecule, used for descriptive purposes\n",
      "\n",
      "\n"
     ]
    }
   ],
   "source": [
    "print(newMolecule)"
   ]
  },
  {
   "cell_type": "code",
   "execution_count": 28,
   "metadata": {},
   "outputs": [
    {
     "name": "stdout",
     "output_type": "stream",
     "text": [
      "copy molecule with new geom\n",
      " creating copy, new node id = 1\n",
      " old node id =  0\n",
      "  cp scratch/mp_0000_000 scratch/mp_0000_001\n",
      " initializing LOT from file\n",
      " making primitives from options!\n",
      " getting cartesian coordinates from geom\n",
      " getting coord_object from options\n",
      "[[-3.5196  3.1864  0.9875]\n",
      " [-2.1607  3.1785  0.9906]\n",
      " [-4.3255  3.927   1.8144]\n",
      " [-4.0128  2.5534  0.2703]\n",
      " [-1.5303  3.7705  1.6628]\n",
      " [-1.6585  2.5386  0.2744]]\n"
     ]
    }
   ],
   "source": [
    "print(\"copy molecule with new geom\")\n",
    "newxyz2 = np.ones(M.xyz.shape)\n",
    "newxyz2 += M.xyz\n",
    "newMolecule2 = Molecule.copy_from_options(M,xyz=newxyz2)\n",
    "print(newMolecule2.xyz)\n"
   ]
  },
  {
   "cell_type": "code",
   "execution_count": 36,
   "metadata": {},
   "outputs": [],
   "source": [
    "from eigenvector_follow import eigenvector_follow\n",
    "ef = eigenvector_follow.from_options() #Linesearch=NoLineSearch)"
   ]
  },
  {
   "cell_type": "code",
   "execution_count": 39,
   "metadata": {},
   "outputs": [
    {
     "name": "stdout",
     "output_type": "stream",
     "text": [
      "turning energy off for demonstration purpose\n",
      "self.PES.get_energy(self.xyz)\n",
      "turning energy off for demonstration purpose\n",
      "self.PES.get_energy(self.xyz)\n",
      "initial E 0.0000\n",
      "turning energy off for demonstration purpose\n",
      "self.PES.get_energy(self.xyz)\n",
      "turning energy off for demonstration purpose\n",
      "self.PES.get_energy(self.xyz)\n",
      "turning gradient off for demonstration purpose\n",
      "#gradx = self.PES.get_gradient(self.xyz) \n",
      "#return self.coord_obj.calcGrad(self.xyz,gradx)  #CartesianCoordinate just returns gradx\n"
     ]
    },
    {
     "ename": "AttributeError",
     "evalue": "'float' object has no attribute 'copy'",
     "output_type": "error",
     "traceback": [
      "\u001b[0;31m---------------------------------------------------------------------------\u001b[0m",
      "\u001b[0;31mAttributeError\u001b[0m                            Traceback (most recent call last)",
      "\u001b[0;32m<ipython-input-39-04e1cdf8a8a6>\u001b[0m in \u001b[0;36m<module>\u001b[0;34m\u001b[0m\n\u001b[1;32m      2\u001b[0m     \u001b[0mmolecule\u001b[0m\u001b[0;34m=\u001b[0m\u001b[0mM\u001b[0m\u001b[0;34m,\u001b[0m\u001b[0;34m\u001b[0m\u001b[0;34m\u001b[0m\u001b[0m\n\u001b[1;32m      3\u001b[0m     \u001b[0mrefE\u001b[0m\u001b[0;34m=\u001b[0m\u001b[0mM\u001b[0m\u001b[0;34m.\u001b[0m\u001b[0menergy\u001b[0m\u001b[0;34m,\u001b[0m\u001b[0;34m\u001b[0m\u001b[0;34m\u001b[0m\u001b[0m\n\u001b[0;32m----> 4\u001b[0;31m     \u001b[0mopt_steps\u001b[0m\u001b[0;34m=\u001b[0m\u001b[0;36m5\u001b[0m\u001b[0;34m\u001b[0m\u001b[0;34m\u001b[0m\u001b[0m\n\u001b[0m\u001b[1;32m      5\u001b[0m )\n",
      "\u001b[0;32m~/Desktop/pyGSM/pyGSM/eigenvector_follow.py\u001b[0m in \u001b[0;36moptimize\u001b[0;34m(self, molecule, refE, opt_steps, ictan)\u001b[0m\n\u001b[1;32m     48\u001b[0m         \u001b[0;31m# Evaluate the function value and its gradient.\u001b[0m\u001b[0;34m\u001b[0m\u001b[0;34m\u001b[0m\u001b[0;34m\u001b[0m\u001b[0m\n\u001b[1;32m     49\u001b[0m         \u001b[0mfx\u001b[0m \u001b[0;34m=\u001b[0m \u001b[0mmolecule\u001b[0m\u001b[0;34m.\u001b[0m\u001b[0menergy\u001b[0m\u001b[0;34m\u001b[0m\u001b[0;34m\u001b[0m\u001b[0m\n\u001b[0;32m---> 50\u001b[0;31m         \u001b[0mg\u001b[0m \u001b[0;34m=\u001b[0m \u001b[0mmolecule\u001b[0m\u001b[0;34m.\u001b[0m\u001b[0mgradient\u001b[0m\u001b[0;34m.\u001b[0m\u001b[0mcopy\u001b[0m\u001b[0;34m(\u001b[0m\u001b[0;34m)\u001b[0m\u001b[0;34m\u001b[0m\u001b[0;34m\u001b[0m\u001b[0m\n\u001b[0m\u001b[1;32m     51\u001b[0m \u001b[0;34m\u001b[0m\u001b[0m\n\u001b[1;32m     52\u001b[0m         \u001b[0mupdate_hess\u001b[0m\u001b[0;34m=\u001b[0m\u001b[0;32mFalse\u001b[0m\u001b[0;34m\u001b[0m\u001b[0;34m\u001b[0m\u001b[0m\n",
      "\u001b[0;31mAttributeError\u001b[0m: 'float' object has no attribute 'copy'"
     ]
    }
   ],
   "source": [
    "ef.optimize(\n",
    "    molecule=M,\n",
    "    refE=M.energy,\n",
    "    opt_steps=5\n",
    ")"
   ]
  },
  {
   "cell_type": "code",
   "execution_count": null,
   "metadata": {},
   "outputs": [],
   "source": []
  }
 ],
 "metadata": {
  "kernelspec": {
   "display_name": "Python 3",
   "language": "python",
   "name": "python3"
  },
  "language_info": {
   "codemirror_mode": {
    "name": "ipython",
    "version": 3
   },
   "file_extension": ".py",
   "mimetype": "text/x-python",
   "name": "python",
   "nbconvert_exporter": "python",
   "pygments_lexer": "ipython3",
   "version": "3.7.1"
  }
 },
 "nbformat": 4,
 "nbformat_minor": 2
}
